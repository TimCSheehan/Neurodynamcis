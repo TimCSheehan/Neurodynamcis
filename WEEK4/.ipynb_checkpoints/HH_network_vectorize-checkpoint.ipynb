{
 "cells": [
  {
   "cell_type": "code",
   "execution_count": 1,
   "metadata": {
    "collapsed": true
   },
   "outputs": [],
   "source": [
    "import scipy as sp\n",
    "import pylab as plt\n",
    "from scipy.integrate import odeint\n",
    "import numpy as np\n",
    "import random"
   ]
  },
  {
   "cell_type": "code",
   "execution_count": 2,
   "metadata": {
    "collapsed": true
   },
   "outputs": [],
   "source": [
    "font = {'family' : 'normal',\n",
    "        'weight' : 'bold',\n",
    "        'size'   : 14}\n",
    "\n",
    "plt.rc('font', **font)"
   ]
  },
  {
   "cell_type": "code",
   "execution_count": 6,
   "metadata": {
    "collapsed": true
   },
   "outputs": [],
   "source": [
    "# Constants\n",
    "C_m = 1.0\n",
    "g_Na = 120\n",
    "g_K = 36.0\n",
    "g_L = 0.3\n",
    "E_Na = 45.0\n",
    "E_K = -82.0\n",
    "E_L = -59.387\n",
    "E_Cl = -80.0\n",
    "E_ex = -38.0\n",
    "\n",
    "# channel gating kinetics\n",
    "def a_m(V): return (25-V)/(10*(np.exp((25-V)/10)-1))\n",
    "def b_m(V): return 4*np.exp(-V/18)\n",
    "def a_h(V): return 0.07*np.exp(-V/20)\n",
    "def b_h(V): return 1/(np.exp((30-V)/10)+1)\n",
    "def a_n(V): return (10-V)/(100*(np.exp((10-V)/10)-1))\n",
    "def b_n(V): return 0.125*np.exp(-V/80)"
   ]
  },
  {
   "cell_type": "code",
   "execution_count": 7,
   "metadata": {
    "collapsed": true
   },
   "outputs": [],
   "source": [
    "# alpha/beta constants for ex/inhib synapses\n",
    "a_r_i = 5.0\n",
    "b_r_i = 0.18\n",
    "a_r_e = 2.4\n",
    "b_r_e = 0.56\n",
    "\n",
    "# [T] equations for synapses\n",
    "T_max_i = 1.5\n",
    "T_max_e = 1.0\n",
    "K_p = 5.0\n",
    "V_p = 7.0\n",
    "\n",
    "def T_i(V_pre): return T_max_i/(1+np.exp(-(V_pre-V_p)/K_p)) \n",
    "def T_e(V_pre): return T_max_e/(1+np.exp(-(V_pre-V_p)/K_p)) "
   ]
  },
  {
   "cell_type": "code",
   "execution_count": 8,
   "metadata": {
    "collapsed": true
   },
   "outputs": [],
   "source": [
    "# Differential gating equations\n",
    "def dm(V,m): return a_m(V)*(1.0-m)-b_m(V)*m\n",
    "def dh(V,h): return a_h(V)*(1.0-h)-b_h(V)*h\n",
    "def dn(V,n): return a_n(V)*(1.0-n)-b_n(V)*n\n",
    "def dr_i(V,r): return a_r_i*T_i(V)*(1.0-r)-b_r_i*r\n",
    "def dr_e(V,r): return a_r_e*T_e(V)*(1.0-r)-b_r_e*r"
   ]
  },
  {
   "cell_type": "code",
   "execution_count": 9,
   "metadata": {
    "collapsed": true
   },
   "outputs": [],
   "source": [
    "# Membrane currents (uA/cm^2)\n",
    "def I_Na(V,m,h): return g_Na*m**3*h*(V-E_Na)\n",
    "def I_K(V,n): return g_K*n**4*(V-E_K)\n",
    "def I_L(V): return g_L*(V-E_L)\n",
    "\n",
    "def I_syn_i(V,g_GABA,r): return r*g_GABA*(V-E_Cl)\n",
    "def I_syn_e(V,g_Glu,r): return r*g_Glu*(V-E_ex)"
   ]
  },
  {
   "cell_type": "code",
   "execution_count": 11,
   "metadata": {
    "collapsed": true
   },
   "outputs": [],
   "source": [
    "# membrane voltage differential \n",
    "def dV(V,m,h,n,r_i,r_e,I_ext,g_GABA,g_Glu): return (-I_Na(V,m,h) - I_K(V,n)-I_L(V)-I_syn_i(V,g_GABA,r_i)-I_syn_e(V,g_Glu,r_e)+I_ext)/C_m\n",
    "# X- column -> cells, rows -> parameters\n",
    "# g_GABA (inhibitory synapses) rows -> presynaptic cell, column -> postsynaptic cell\n",
    "def d_single(X,t,I_ext,g_GABA,g_Glu):\n",
    "    V,m,h,n,r_i,r_e = X[0,:],X[1,:],X[2,:],X[3,:],X[4,:],X[5,:]\n",
    "    return sp.array([\n",
    "            dV(V,m,h,n,r_i,r_e,I_ext(t),g_GABA,g_Glu),\n",
    "            dm(V,m), dh(V,h), dn(V,n),\n",
    "            dr_i(V,r_i), dr_e(V,r_e)\n",
    "        ])"
   ]
  },
  {
   "cell_type": "code",
   "execution_count": 12,
   "metadata": {
    "collapsed": true
   },
   "outputs": [],
   "source": [
    "# multiple Neurons\n",
    "# I_exts takes time and returns row vector of current applied to each cell\n",
    "def d(X,t,I_exts,g_GABA,g_Glu):\n",
    "    return sp.reshape(d_single(sp.reshape(X,(6,len(X)/6)),t,I_exts,g_GABA,g_Glu),len(X))\n",
    "\n",
    "# simulate whole network\n",
    "t = sp.linspace(0,500,5000) # 0.1 ms / div\n",
    "def network(I_exts,g_GABA,g_Glu):\n",
    "    n_cells = sp.size(g_GABA,0)\n",
    "    return sp.reshape(\n",
    "    odeint(d,sp.repeat([-70,.05,0.6,0.3,0,0],ncells),t,(I_exts,g_GABA,g_Glu)).T,(6,ncells,len(t)))\n",
    "# no connection network\n",
    "nocon2 = sp.zeros((2,2))"
   ]
  },
  {
   "cell_type": "code",
   "execution_count": 19,
   "metadata": {
    "collapsed": true
   },
   "outputs": [],
   "source": [
    "# PART 1\n",
    "I_exts_ = [10,20]\n",
    "def I_exts(t): return I_exts_\n"
   ]
  },
  {
   "cell_type": "code",
   "execution_count": 18,
   "metadata": {
    "collapsed": false
   },
   "outputs": [
    {
     "data": {
      "text/plain": [
       "int"
      ]
     },
     "execution_count": 18,
     "metadata": {},
     "output_type": "execute_result"
    }
   ],
   "source": [
    "foo = [10,20]\n",
    "bar = (10,20)\n",
    "x =5 \n",
    "type(x)"
   ]
  },
  {
   "cell_type": "code",
   "execution_count": null,
   "metadata": {
    "collapsed": true
   },
   "outputs": [],
   "source": []
  }
 ],
 "metadata": {
  "anaconda-cloud": {},
  "kernelspec": {
   "display_name": "Python [py_run]",
   "language": "python",
   "name": "Python [py_run]"
  },
  "language_info": {
   "codemirror_mode": {
    "name": "ipython",
    "version": 3
   },
   "file_extension": ".py",
   "mimetype": "text/x-python",
   "name": "python",
   "nbconvert_exporter": "python",
   "pygments_lexer": "ipython3",
   "version": "3.6.2"
  }
 },
 "nbformat": 4,
 "nbformat_minor": 0
}
