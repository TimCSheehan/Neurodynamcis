{
 "cells": [
  {
   "cell_type": "code",
   "execution_count": 114,
   "metadata": {
    "collapsed": false
   },
   "outputs": [],
   "source": [
    "import scipy as sp\n",
    "import pylab as plt\n",
    "from scipy.integrate import odeint\n",
    "import numpy as np\n",
    "from numpy import linalg\n",
    "import random\n",
    "from ndtools import clines\n",
    "%matplotlib inline  "
   ]
  },
  {
   "cell_type": "code",
   "execution_count": 85,
   "metadata": {
    "collapsed": true
   },
   "outputs": [],
   "source": [
    "font = {'family' : 'normal',\n",
    "        'weight' : 'bold',\n",
    "        'size'   : 14}\n",
    "\n",
    "plt.rc('font', **font)"
   ]
  },
  {
   "cell_type": "code",
   "execution_count": 3,
   "metadata": {
    "collapsed": true
   },
   "outputs": [],
   "source": [
    "# set constants\n",
    "C_m = 1 # uF/cm2\n",
    "\n",
    "E_Ca = 100 # mV\n",
    "E_K = - 70 # mV\n",
    "E_L = -50  # mV\n",
    "\n",
    "g_Ca = 1.1 # mS/cm2\n",
    "g_K = 2.0  # mS/cm2\n",
    "g_L = 0.5  # mS/cm2"
   ]
  },
  {
   "cell_type": "code",
   "execution_count": 107,
   "metadata": {
    "collapsed": false
   },
   "outputs": [
    {
     "name": "stdout",
     "output_type": "stream",
     "text": [
      "120 140\n"
     ]
    }
   ],
   "source": [
    "def I_Ca(V):\n",
    "    return g_Ca*m_inf(V)*(V-E_Ca)\n",
    "def I_K(V,w):\n",
    "    return g_K*w*(V-E_K) # need to figure out w\n",
    "def I_L(V):\n",
    "    return g_L*(V-E_L)\n",
    "\n",
    "def m_inf(V):\n",
    "    return (1+np.tanh((V+1)/15))/2\n",
    "def w_inf(V):\n",
    "    return (1+np.tanh(V/30))/2\n",
    "def T_w(V):\n",
    "    return 5/ np.cosh(V/60) # ms\n",
    "\n",
    "def dwdt(V,w):\n",
    "    return(w_inf(V)-w)/T_w(V)\n",
    "\n",
    "def dVdt(V,w,I_ext):\n",
    "    return 1/C_m*(-I_Ca(V)-I_K(V,w)-I_L(V)+I_ext)\n",
    "\n",
    "v_scale = np.arange(-60,60,1)\n",
    "w_scale = np.arange(-.2,1.2,.01)\n",
    "print(len(v_scale),len(w_scale))\n",
    "[V,W] = np.meshgrid(v_scale,w_scale)"
   ]
  },
  {
   "cell_type": "code",
   "execution_count": 139,
   "metadata": {
    "collapsed": false
   },
   "outputs": [],
   "source": [
    "def NC(I_ext):\n",
    "    return clines.getNullcline(dVdt(V,W,I_ext),v_scale,w_scale)\n",
    "X_null_V_5, Y_null_V_5 = NC(5)\n",
    "X_null_V_24, Y_null_V_24 = NC(24.3)\n",
    "X_null_V_30, Y_null_V_30 = NC(30)"
   ]
  },
  {
   "cell_type": "code",
   "execution_count": 140,
   "metadata": {
    "collapsed": false
   },
   "outputs": [
    {
     "data": {
      "text/plain": [
       "<matplotlib.legend.Legend at 0x117a77a58>"
      ]
     },
     "execution_count": 140,
     "metadata": {},
     "output_type": "execute_result"
    },
    {
     "name": "stderr",
     "output_type": "stream",
     "text": [
      "/Users/sheehantc/miniconda3/envs/py_run/lib/python3.6/site-packages/matplotlib/font_manager.py:1297: UserWarning: findfont: Font family ['normal'] not found. Falling back to DejaVu Sans\n",
      "  (prop.get_family(), self.defaultFamily[fontext]))\n"
     ]
    },
    {
     "data": {
      "image/png": "[encoded data removed]",
      "text/plain": [
       "<matplotlib.figure.Figure at 0x11228e518>"
      ]
     },
     "metadata": {},
     "output_type": "display_data"
    }
   ],
   "source": [
    "plt.plot(X_null_V_5,Y_null_V_5,label = '5')\n",
    "plt.plot(X_null_V_24,Y_null_V_24,label = '24')\n",
    "plt.plot(X_null_V_30,Y_null_V_30,label = '30')\n",
    "plt.xlabel('V_m')\n",
    "plt.ylabel('w')\n",
    "plt.title('Null-clines')\n",
    "plt.legend()"
   ]
  },
  {
   "cell_type": "code",
   "execution_count": 148,
   "metadata": {
    "collapsed": false
   },
   "outputs": [],
   "source": [
    "X_null_w, Y_null_w = clines.getNullcline(dwdt(V,W),v_scale,w_scale)\n",
    "\n",
    "def int_NC(I_ext):\n",
    "    X_null_V_I, Y_null_V_I = NC(I_ext)\n",
    "    return clines.getCrossings(X_null_V_I,Y_null_V_I,X_null_w,Y_null_w)\n",
    "\n",
    "def eig_NC(I_ext):\n",
    "    X_null_V_I, Y_null_V_I = NC(I_ext)\n",
    "    x_int, y_int = int_NC(I_ext)\n",
    "    J = clines.getJacobian(V,W,dVdt(V,W,I_ext),dwdt(V,W),x_int,y_int)\n",
    "    J = np.squeeze(J)\n",
    "    VI,DI = linalg.eig(J)\n",
    "    return np.real(VI)\n",
    "    "
   ]
  },
  {
   "cell_type": "code",
   "execution_count": 153,
   "metadata": {
    "collapsed": false
   },
   "outputs": [
    {
     "name": "stdout",
     "output_type": "stream",
     "text": [
      "EIG I_ext = 5:  [-0.396717 -0.396717]\n",
      "EIG I_ext = 24.3:  [-0.09166926 -0.09166926]\n",
      "EIG I_ext = 30:  [ 0.27011238  0.27011238]\n"
     ]
    }
   ],
   "source": [
    "# If real part of all eigenvalues are negative, then ODE is stable at \n",
    "# need to repeat all above for other currents as well\n",
    "print('EIG I_ext = 5: ', eig_NC(5))\n",
    "print('EIG I_ext = 24.3: ',eig_NC(24.3))\n",
    "print('EIG I_ext = 30: ',eig_NC(30))"
   ]
  },
  {
   "cell_type": "code",
   "execution_count": 170,
   "metadata": {
    "collapsed": false
   },
   "outputs": [],
   "source": [
    "def small_pert(var,is_x,amnt=2):\n",
    "    if is_x:\n",
    "        return np.array((var +amnt, var+amnt, var-amnt,var-amnt))\n",
    "    else:\n",
    "        return np.array((var +amnt, var-amnt, var-amnt,var+amnt))\n"
   ]
  },
  {
   "cell_type": "code",
   "execution_count": 171,
   "metadata": {
    "collapsed": false
   },
   "outputs": [],
   "source": [
    "x_int, y_int = int_NC(5)\n",
    "x_pert_I = small_pert(x_int,True,2)\n",
    "y_pert_I = small_pert(y_int,False,2)\n"
   ]
  },
  {
   "cell_type": "code",
   "execution_count": 201,
   "metadata": {
    "collapsed": false
   },
   "outputs": [
    {
     "name": "stdout",
     "output_type": "stream",
     "text": [
      "[[-42.16598204   2.0500104 ]\n",
      " [-42.16598204  -1.9499896 ]\n",
      " [-46.16598204  -1.9499896 ]\n",
      " [-46.16598204   2.0500104 ]]\n",
      "[[-42.16598204   2.0500104 ]]\n",
      "[[-42.16598204  -1.9499896 ]]\n",
      "[[-46.16598204  -1.9499896 ]]\n",
      "[[-46.16598204   2.0500104 ]]\n"
     ]
    }
   ],
   "source": [
    "#1.c\n",
    "st_pts = np.hstack((x_pert_I,y_pert_I))\n",
    "print(st_pts)\n",
    "t = np.arange(0,.001,100)\n",
    "I_ext = 5\n",
    "for i in range(len(x_pert_I)):\n",
    "    def dXdtI(t,XI):\n",
    "        return dVdt(XI[:],I_ext),dwdt(XI[:])\n",
    "    y0 = np.concatenate((x_pert_I[i],y_pert_I[i]))\n",
    "    out = odeint(dXdtI,y0,t)\n",
    "    print(out)"
   ]
  },
  {
   "cell_type": "code",
   "execution_count": 202,
   "metadata": {
    "collapsed": false
   },
   "outputs": [
    {
     "name": "stdout",
     "output_type": "stream",
     "text": [
      "EIG I_ext = 220:  [-3.46224907 -0.3174134 ]\n"
     ]
    }
   ],
   "source": [
    "#d\n",
    "print('EIG I_ext = 220: ',eig_NC(220))"
   ]
  },
  {
   "cell_type": "code",
   "execution_count": null,
   "metadata": {
    "collapsed": false
   },
   "outputs": [],
   "source": [
    "#2\n"
   ]
  },
  {
   "cell_type": "code",
   "execution_count": null,
   "metadata": {
    "collapsed": true
   },
   "outputs": [],
   "source": []
  }
 ],
 "metadata": {
  "anaconda-cloud": {},
  "kernelspec": {
   "display_name": "Python [py_run]",
   "language": "python",
   "name": "Python [py_run]"
  },
  "language_info": {
   "codemirror_mode": {
    "name": "ipython",
    "version": 3
   },
   "file_extension": ".py",
   "mimetype": "text/x-python",
   "name": "python",
   "nbconvert_exporter": "python",
   "pygments_lexer": "ipython3",
   "version": "3.6.2"
  }
 },
 "nbformat": 4,
 "nbformat_minor": 0
}
